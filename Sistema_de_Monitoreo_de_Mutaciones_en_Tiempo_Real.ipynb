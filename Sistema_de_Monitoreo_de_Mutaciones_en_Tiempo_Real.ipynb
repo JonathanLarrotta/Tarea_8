{
  "nbformat": 4,
  "nbformat_minor": 0,
  "metadata": {
    "colab": {
      "provenance": []
    },
    "kernelspec": {
      "name": "python3",
      "display_name": "Python 3"
    },
    "language_info": {
      "name": "python"
    }
  },
  "cells": [
    {
      "cell_type": "code",
      "execution_count": 1,
      "metadata": {
        "colab": {
          "base_uri": "https://localhost:8080/"
        },
        "id": "7toU_rtX9-Rt",
        "outputId": "d78e5680-b94d-4983-8116-f6dbd8612215"
      },
      "outputs": [
        {
          "output_type": "stream",
          "name": "stdout",
          "text": [
            "Monitor de mutaciones listo. Ejecuta las siguientes celdas para simular cambios en el archivo.\n"
          ]
        }
      ],
      "source": [
        "import matplotlib.pyplot as plt\n",
        "from IPython.display import display, Markdown\n",
        "import time\n",
        "\n",
        "class MonitorMutaciones:\n",
        "    def __init__(self, secuencia_referencia):\n",
        "        \"\"\"\n",
        "        Inicializa el monitor con una secuencia de referencia\n",
        "        \"\"\"\n",
        "        self.referencia = secuencia_referencia.upper()\n",
        "        self.historial_mutaciones = []\n",
        "        self.contador_mutaciones = 0\n",
        "\n",
        "    def detectar_mutaciones(self, secuencia_muestra):\n",
        "        \"\"\"\n",
        "        Compara la secuencia de muestra con la referencia y detecta mutaciones\n",
        "        \"\"\"\n",
        "        secuencia_muestra = secuencia_muestra.upper()\n",
        "        mutaciones = []\n",
        "\n",
        "        # Validación de longitud\n",
        "        if len(secuencia_muestra) != len(self.referencia):\n",
        "            return \"Error: Las secuencias tienen diferente longitud\"\n",
        "\n",
        "        # Detección de mutaciones\n",
        "        for posicion, (base_ref, base_muestra) in enumerate(zip(self.referencia, secuencia_muestra)):\n",
        "            if base_ref != base_muestra:\n",
        "                mutaciones.append({\n",
        "                    'posicion': posicion + 1,  # +1 para posición humana (no basada en 0)\n",
        "                    'base_referencia': base_ref,\n",
        "                    'base_mutada': base_muestra\n",
        "                })\n",
        "                self.contador_mutaciones += 1\n",
        "\n",
        "        if mutaciones:\n",
        "            self.historial_mutaciones.append({\n",
        "                'timestamp': time.strftime(\"%Y-%m-%d %H:%M:%S\"),\n",
        "                'mutaciones': mutaciones,\n",
        "                'secuencia': secuencia_muestra\n",
        "            })\n",
        "\n",
        "        return mutaciones\n",
        "\n",
        "    def generar_reporte(self, mutaciones):\n",
        "        \"\"\"\n",
        "        Genera un reporte visual de las mutaciones detectadas\n",
        "        \"\"\"\n",
        "        display(Markdown(\"## Reporte de Mutaciones\"))\n",
        "\n",
        "        if not mutaciones:\n",
        "            display(Markdown(\"**No se detectaron mutaciones**\"))\n",
        "            return\n",
        "\n",
        "        display(Markdown(f\"**Total mutaciones detectadas:** {len(mutaciones)}\"))\n",
        "\n",
        "        # Tabla de mutaciones\n",
        "        tabla = \"| Posición | Base Referencia | Base Mutada |\\n\"\n",
        "        tabla += \"|----------|-----------------|-------------|\\n\"\n",
        "        for mut in mutaciones:\n",
        "            tabla += f\"| {mut['posicion']} | {mut['base_referencia']} | {mut['base_mutada']} |\\n\"\n",
        "\n",
        "        display(Markdown(tabla))\n",
        "\n",
        "        # Visualización gráfica\n",
        "        posiciones = [mut['posicion'] for mut in mutaciones]\n",
        "        bases_ref = [mut['base_referencia'] for mut in mutaciones]\n",
        "        bases_mut = [mut['base_mutada'] for mut in mutaciones]\n",
        "\n",
        "        plt.figure(figsize=(10, 4))\n",
        "        plt.bar(posiciones, [1]*len(posiciones), color='red', alpha=0.3)\n",
        "        plt.xticks(posiciones)\n",
        "        plt.yticks([])\n",
        "        plt.title(\"Posiciones con mutaciones\")\n",
        "        plt.xlabel(\"Posición en secuencia\")\n",
        "        plt.show()\n",
        "\n",
        "    def monitorear_archivo(self, archivo, intervalo=5):\n",
        "        \"\"\"\n",
        "        Monitorea continuamente un archivo que simula el sensor\n",
        "        \"\"\"\n",
        "        display(Markdown(f\"## Iniciando monitoreo del archivo: {archivo}\"))\n",
        "        display(Markdown(f\"**Intervalo de verificación:** {intervalo} segundos\"))\n",
        "\n",
        "        try:\n",
        "            while True:\n",
        "                with open(archivo, 'r') as f:\n",
        "                    secuencia = f.read().strip()\n",
        "\n",
        "                mutaciones = self.detectar_mutaciones(secuencia)\n",
        "                self.generar_reporte(mutaciones)\n",
        "\n",
        "                time.sleep(intervalo)\n",
        "                display(Markdown(\"---\"))\n",
        "\n",
        "        except KeyboardInterrupt:\n",
        "            display(Markdown(\"## Monitoreo detenido\"))\n",
        "            display(Markdown(f\"**Total mutaciones detectadas en esta sesión:** {self.contador_mutaciones}\"))\n",
        "\n",
        "# Ejemplo de uso\n",
        "if __name__ == \"__main__\":\n",
        "    # 1. Crear archivo de prueba\n",
        "    with open('secuencia_sensor.txt', 'w') as f:\n",
        "        f.write(\"ATGCTAGCTAAT\")  # Secuencia inicial sin mutaciones\n",
        "\n",
        "    # 2. Configurar el monitor\n",
        "    referencia = \"ATGCTAGCTAAT\"\n",
        "    monitor = MonitorMutaciones(referencia)\n",
        "\n",
        "    # 3. Iniciar monitoreo (simularemos cambios después)\n",
        "    print(\"Monitor de mutaciones listo. Ejecuta las siguientes celdas para simular cambios en el archivo.\")"
      ]
    },
    {
      "cell_type": "code",
      "source": [
        "# Celda para simular cambios en el archivo del sensor\n",
        "with open('secuencia_sensor.txt', 'w') as f:\n",
        "    f.write(\"ATGCTAGCTAGT\")  # Introducimos una mutación en posición 10"
      ],
      "metadata": {
        "id": "pnhCXeVV-HCx"
      },
      "execution_count": 2,
      "outputs": []
    },
    {
      "cell_type": "code",
      "source": [
        "# Celda para iniciar el monitoreo\n",
        "monitor.monitorear_archivo('secuencia_sensor.txt', intervalo=3)"
      ],
      "metadata": {
        "colab": {
          "base_uri": "https://localhost:8080/",
          "height": 1000
        },
        "id": "8swIUkxk-KhG",
        "outputId": "6ddbe57c-fb7a-4a5a-dfc2-f9acb69d841a"
      },
      "execution_count": 3,
      "outputs": [
        {
          "output_type": "display_data",
          "data": {
            "text/plain": [
              "<IPython.core.display.Markdown object>"
            ],
            "text/markdown": "## Iniciando monitoreo del archivo: secuencia_sensor.txt"
          },
          "metadata": {}
        },
        {
          "output_type": "display_data",
          "data": {
            "text/plain": [
              "<IPython.core.display.Markdown object>"
            ],
            "text/markdown": "**Intervalo de verificación:** 3 segundos"
          },
          "metadata": {}
        },
        {
          "output_type": "display_data",
          "data": {
            "text/plain": [
              "<IPython.core.display.Markdown object>"
            ],
            "text/markdown": "## Reporte de Mutaciones"
          },
          "metadata": {}
        },
        {
          "output_type": "display_data",
          "data": {
            "text/plain": [
              "<IPython.core.display.Markdown object>"
            ],
            "text/markdown": "**Total mutaciones detectadas:** 1"
          },
          "metadata": {}
        },
        {
          "output_type": "display_data",
          "data": {
            "text/plain": [
              "<IPython.core.display.Markdown object>"
            ],
            "text/markdown": "| Posición | Base Referencia | Base Mutada |\n|----------|-----------------|-------------|\n| 11 | A | G |\n"
          },
          "metadata": {}
        },
        {
          "output_type": "display_data",
          "data": {
            "text/plain": [
              "<Figure size 1000x400 with 1 Axes>"
            ],
            "image/png": "[encoded data removed]"
          },
          "metadata": {}
        },
        {
          "output_type": "display_data",
          "data": {
            "text/plain": [
              "<IPython.core.display.Markdown object>"
            ],
            "text/markdown": "---"
          },
          "metadata": {}
        },
        {
          "output_type": "display_data",
          "data": {
            "text/plain": [
              "<IPython.core.display.Markdown object>"
            ],
            "text/markdown": "## Reporte de Mutaciones"
          },
          "metadata": {}
        },
        {
          "output_type": "display_data",
          "data": {
            "text/plain": [
              "<IPython.core.display.Markdown object>"
            ],
            "text/markdown": "**Total mutaciones detectadas:** 1"
          },
          "metadata": {}
        },
        {
          "output_type": "display_data",
          "data": {
            "text/plain": [
              "<IPython.core.display.Markdown object>"
            ],
            "text/markdown": "| Posición | Base Referencia | Base Mutada |\n|----------|-----------------|-------------|\n| 11 | A | G |\n"
          },
          "metadata": {}
        },
        {
          "output_type": "display_data",
          "data": {
            "text/plain": [
              "<Figure size 1000x400 with 1 Axes>"
            ],
            "image/png": "[encoded data removed]"
          },
          "metadata": {}
        },
        {
          "output_type": "display_data",
          "data": {
            "text/plain": [
              "<IPython.core.display.Markdown object>"
            ],
            "text/markdown": "---"
          },
          "metadata": {}
        },
        {
          "output_type": "display_data",
          "data": {
            "text/plain": [
              "<IPython.core.display.Markdown object>"
            ],
            "text/markdown": "## Reporte de Mutaciones"
          },
          "metadata": {}
        },
        {
          "output_type": "display_data",
          "data": {
            "text/plain": [
              "<IPython.core.display.Markdown object>"
            ],
            "text/markdown": "**Total mutaciones detectadas:** 1"
          },
          "metadata": {}
        },
        {
          "output_type": "display_data",
          "data": {
            "text/plain": [
              "<IPython.core.display.Markdown object>"
            ],
            "text/markdown": "| Posición | Base Referencia | Base Mutada |\n|----------|-----------------|-------------|\n| 11 | A | G |\n"
          },
          "metadata": {}
        },
        {
          "output_type": "display_data",
          "data": {
            "text/plain": [
              "<Figure size 1000x400 with 1 Axes>"
            ],
            "image/png": "[encoded data removed]"
          },
          "metadata": {}
        },
        {
          "output_type": "display_data",
          "data": {
            "text/plain": [
              "<IPython.core.display.Markdown object>"
            ],
            "text/markdown": "---"
          },
          "metadata": {}
        },
        {
          "output_type": "display_data",
          "data": {
            "text/plain": [
              "<IPython.core.display.Markdown object>"
            ],
            "text/markdown": "## Reporte de Mutaciones"
          },
          "metadata": {}
        },
        {
          "output_type": "display_data",
          "data": {
            "text/plain": [
              "<IPython.core.display.Markdown object>"
            ],
            "text/markdown": "**Total mutaciones detectadas:** 1"
          },
          "metadata": {}
        },
        {
          "output_type": "display_data",
          "data": {
            "text/plain": [
              "<IPython.core.display.Markdown object>"
            ],
            "text/markdown": "| Posición | Base Referencia | Base Mutada |\n|----------|-----------------|-------------|\n| 11 | A | G |\n"
          },
          "metadata": {}
        },
        {
          "output_type": "display_data",
          "data": {
            "text/plain": [
              "<Figure size 1000x400 with 1 Axes>"
            ],
            "image/png": "[encoded data removed]"
          },
          "metadata": {}
        },
        {
          "output_type": "display_data",
          "data": {
            "text/plain": [
              "<IPython.core.display.Markdown object>"
            ],
            "text/markdown": "---"
          },
          "metadata": {}
        },
        {
          "output_type": "display_data",
          "data": {
            "text/plain": [
              "<IPython.core.display.Markdown object>"
            ],
            "text/markdown": "## Reporte de Mutaciones"
          },
          "metadata": {}
        },
        {
          "output_type": "display_data",
          "data": {
            "text/plain": [
              "<IPython.core.display.Markdown object>"
            ],
            "text/markdown": "**Total mutaciones detectadas:** 1"
          },
          "metadata": {}
        },
        {
          "output_type": "display_data",
          "data": {
            "text/plain": [
              "<IPython.core.display.Markdown object>"
            ],
            "text/markdown": "| Posición | Base Referencia | Base Mutada |\n|----------|-----------------|-------------|\n| 11 | A | G |\n"
          },
          "metadata": {}
        },
        {
          "output_type": "display_data",
          "data": {
            "text/plain": [
              "<Figure size 1000x400 with 1 Axes>"
            ],
            "image/png": "[encoded data removed]"
          },
          "metadata": {}
        },
        {
          "output_type": "display_data",
          "data": {
            "text/plain": [
              "<IPython.core.display.Markdown object>"
            ],
            "text/markdown": "---"
          },
          "metadata": {}
        },
        {
          "output_type": "display_data",
          "data": {
            "text/plain": [
              "<IPython.core.display.Markdown object>"
            ],
            "text/markdown": "## Reporte de Mutaciones"
          },
          "metadata": {}
        },
        {
          "output_type": "display_data",
          "data": {
            "text/plain": [
              "<IPython.core.display.Markdown object>"
            ],
            "text/markdown": "**Total mutaciones detectadas:** 1"
          },
          "metadata": {}
        },
        {
          "output_type": "display_data",
          "data": {
            "text/plain": [
              "<IPython.core.display.Markdown object>"
            ],
            "text/markdown": "| Posición | Base Referencia | Base Mutada |\n|----------|-----------------|-------------|\n| 11 | A | G |\n"
          },
          "metadata": {}
        },
        {
          "output_type": "display_data",
          "data": {
            "text/plain": [
              "<Figure size 1000x400 with 1 Axes>"
            ],
            "image/png": "[encoded data removed]"
          },
          "metadata": {}
        },
        {
          "output_type": "display_data",
          "data": {
            "text/plain": [
              "<IPython.core.display.Markdown object>"
            ],
            "text/markdown": "---"
          },
          "metadata": {}
        },
        {
          "output_type": "display_data",
          "data": {
            "text/plain": [
              "<IPython.core.display.Markdown object>"
            ],
            "text/markdown": "## Reporte de Mutaciones"
          },
          "metadata": {}
        },
        {
          "output_type": "display_data",
          "data": {
            "text/plain": [
              "<IPython.core.display.Markdown object>"
            ],
            "text/markdown": "**Total mutaciones detectadas:** 1"
          },
          "metadata": {}
        },
        {
          "output_type": "display_data",
          "data": {
            "text/plain": [
              "<IPython.core.display.Markdown object>"
            ],
            "text/markdown": "| Posición | Base Referencia | Base Mutada |\n|----------|-----------------|-------------|\n| 11 | A | G |\n"
          },
          "metadata": {}
        },
        {
          "output_type": "display_data",
          "data": {
            "text/plain": [
              "<Figure size 1000x400 with 1 Axes>"
            ],
            "image/png": "[encoded data removed]"
          },
          "metadata": {}
        },
        {
          "output_type": "display_data",
          "data": {
            "text/plain": [
              "<IPython.core.display.Markdown object>"
            ],
            "text/markdown": "---"
          },
          "metadata": {}
        },
        {
          "output_type": "display_data",
          "data": {
            "text/plain": [
              "<IPython.core.display.Markdown object>"
            ],
            "text/markdown": "## Reporte de Mutaciones"
          },
          "metadata": {}
        },
        {
          "output_type": "display_data",
          "data": {
            "text/plain": [
              "<IPython.core.display.Markdown object>"
            ],
            "text/markdown": "**Total mutaciones detectadas:** 1"
          },
          "metadata": {}
        },
        {
          "output_type": "display_data",
          "data": {
            "text/plain": [
              "<IPython.core.display.Markdown object>"
            ],
            "text/markdown": "| Posición | Base Referencia | Base Mutada |\n|----------|-----------------|-------------|\n| 11 | A | G |\n"
          },
          "metadata": {}
        },
        {
          "output_type": "display_data",
          "data": {
            "text/plain": [
              "<Figure size 1000x400 with 1 Axes>"
            ],
            "image/png": "[encoded data removed]"
          },
          "metadata": {}
        },
        {
          "output_type": "display_data",
          "data": {
            "text/plain": [
              "<IPython.core.display.Markdown object>"
            ],
            "text/markdown": "---"
          },
          "metadata": {}
        },
        {
          "output_type": "display_data",
          "data": {
            "text/plain": [
              "<IPython.core.display.Markdown object>"
            ],
            "text/markdown": "## Reporte de Mutaciones"
          },
          "metadata": {}
        },
        {
          "output_type": "display_data",
          "data": {
            "text/plain": [
              "<IPython.core.display.Markdown object>"
            ],
            "text/markdown": "**Total mutaciones detectadas:** 1"
          },
          "metadata": {}
        },
        {
          "output_type": "display_data",
          "data": {
            "text/plain": [
              "<IPython.core.display.Markdown object>"
            ],
            "text/markdown": "| Posición | Base Referencia | Base Mutada |\n|----------|-----------------|-------------|\n| 11 | A | G |\n"
          },
          "metadata": {}
        },
        {
          "output_type": "display_data",
          "data": {
            "text/plain": [
              "<Figure size 1000x400 with 1 Axes>"
            ],
            "image/png": "[encoded data removed]"
          },
          "metadata": {}
        },
        {
          "output_type": "display_data",
          "data": {
            "text/plain": [
              "<IPython.core.display.Markdown object>"
            ],
            "text/markdown": "---"
          },
          "metadata": {}
        },
        {
          "output_type": "display_data",
          "data": {
            "text/plain": [
              "<IPython.core.display.Markdown object>"
            ],
            "text/markdown": "## Reporte de Mutaciones"
          },
          "metadata": {}
        },
        {
          "output_type": "display_data",
          "data": {
            "text/plain": [
              "<IPython.core.display.Markdown object>"
            ],
            "text/markdown": "**Total mutaciones detectadas:** 1"
          },
          "metadata": {}
        },
        {
          "output_type": "display_data",
          "data": {
            "text/plain": [
              "<IPython.core.display.Markdown object>"
            ],
            "text/markdown": "| Posición | Base Referencia | Base Mutada |\n|----------|-----------------|-------------|\n| 11 | A | G |\n"
          },
          "metadata": {}
        },
        {
          "output_type": "display_data",
          "data": {
            "text/plain": [
              "<Figure size 1000x400 with 1 Axes>"
            ],
            "image/png": "[encoded data removed]"
          },
          "metadata": {}
        },
        {
          "output_type": "display_data",
          "data": {
            "text/plain": [
              "<IPython.core.display.Markdown object>"
            ],
            "text/markdown": "---"
          },
          "metadata": {}
        },
        {
          "output_type": "display_data",
          "data": {
            "text/plain": [
              "<IPython.core.display.Markdown object>"
            ],
            "text/markdown": "## Reporte de Mutaciones"
          },
          "metadata": {}
        },
        {
          "output_type": "display_data",
          "data": {
            "text/plain": [
              "<IPython.core.display.Markdown object>"
            ],
            "text/markdown": "**Total mutaciones detectadas:** 1"
          },
          "metadata": {}
        },
        {
          "output_type": "display_data",
          "data": {
            "text/plain": [
              "<IPython.core.display.Markdown object>"
            ],
            "text/markdown": "| Posición | Base Referencia | Base Mutada |\n|----------|-----------------|-------------|\n| 11 | A | G |\n"
          },
          "metadata": {}
        },
        {
          "output_type": "display_data",
          "data": {
            "text/plain": [
              "<Figure size 1000x400 with 1 Axes>"
            ],
            "image/png": "[encoded data removed]"
          },
          "metadata": {}
        },
        {
          "output_type": "display_data",
          "data": {
            "text/plain": [
              "<IPython.core.display.Markdown object>"
            ],
            "text/markdown": "---"
          },
          "metadata": {}
        },
        {
          "output_type": "display_data",
          "data": {
            "text/plain": [
              "<IPython.core.display.Markdown object>"
            ],
            "text/markdown": "## Reporte de Mutaciones"
          },
          "metadata": {}
        },
        {
          "output_type": "display_data",
          "data": {
            "text/plain": [
              "<IPython.core.display.Markdown object>"
            ],
            "text/markdown": "**Total mutaciones detectadas:** 1"
          },
          "metadata": {}
        },
        {
          "output_type": "display_data",
          "data": {
            "text/plain": [
              "<IPython.core.display.Markdown object>"
            ],
            "text/markdown": "| Posición | Base Referencia | Base Mutada |\n|----------|-----------------|-------------|\n| 11 | A | G |\n"
          },
          "metadata": {}
        },
        {
          "output_type": "display_data",
          "data": {
            "text/plain": [
              "<Figure size 1000x400 with 1 Axes>"
            ],
            "image/png": "[encoded data removed]"
          },
          "metadata": {}
        },
        {
          "output_type": "display_data",
          "data": {
            "text/plain": [
              "<IPython.core.display.Markdown object>"
            ],
            "text/markdown": "---"
          },
          "metadata": {}
        },
        {
          "output_type": "display_data",
          "data": {
            "text/plain": [
              "<IPython.core.display.Markdown object>"
            ],
            "text/markdown": "## Reporte de Mutaciones"
          },
          "metadata": {}
        },
        {
          "output_type": "display_data",
          "data": {
            "text/plain": [
              "<IPython.core.display.Markdown object>"
            ],
            "text/markdown": "**Total mutaciones detectadas:** 1"
          },
          "metadata": {}
        },
        {
          "output_type": "display_data",
          "data": {
            "text/plain": [
              "<IPython.core.display.Markdown object>"
            ],
            "text/markdown": "| Posición | Base Referencia | Base Mutada |\n|----------|-----------------|-------------|\n| 11 | A | G |\n"
          },
          "metadata": {}
        },
        {
          "output_type": "display_data",
          "data": {
            "text/plain": [
              "<Figure size 1000x400 with 1 Axes>"
            ],
            "image/png": "[encoded data removed]"
          },
          "metadata": {}
        },
        {
          "output_type": "display_data",
          "data": {
            "text/plain": [
              "<IPython.core.display.Markdown object>"
            ],
            "text/markdown": "---"
          },
          "metadata": {}
        },
        {
          "output_type": "display_data",
          "data": {
            "text/plain": [
              "<IPython.core.display.Markdown object>"
            ],
            "text/markdown": "## Reporte de Mutaciones"
          },
          "metadata": {}
        },
        {
          "output_type": "display_data",
          "data": {
            "text/plain": [
              "<IPython.core.display.Markdown object>"
            ],
            "text/markdown": "**Total mutaciones detectadas:** 1"
          },
          "metadata": {}
        },
        {
          "output_type": "display_data",
          "data": {
            "text/plain": [
              "<IPython.core.display.Markdown object>"
            ],
            "text/markdown": "| Posición | Base Referencia | Base Mutada |\n|----------|-----------------|-------------|\n| 11 | A | G |\n"
          },
          "metadata": {}
        },
        {
          "output_type": "display_data",
          "data": {
            "text/plain": [
              "<Figure size 1000x400 with 1 Axes>"
            ],
            "image/png": "[encoded data removed]"
          },
          "metadata": {}
        },
        {
          "output_type": "display_data",
          "data": {
            "text/plain": [
              "<IPython.core.display.Markdown object>"
            ],
            "text/markdown": "## Monitoreo detenido"
          },
          "metadata": {}
        },
        {
          "output_type": "display_data",
          "data": {
            "text/plain": [
              "<IPython.core.display.Markdown object>"
            ],
            "text/markdown": "**Total mutaciones detectadas en esta sesión:** 14"
          },
          "metadata": {}
        }
      ]
    }
  ]
}